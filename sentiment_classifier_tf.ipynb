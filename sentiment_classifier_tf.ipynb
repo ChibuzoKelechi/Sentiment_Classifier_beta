{
  "nbformat": 4,
  "nbformat_minor": 0,
  "metadata": {
    "colab": {
      "provenance": [],
      "authorship_tag": "ABX9TyMJh5Bk2NBNMXGGWkAOyVvp",
      "include_colab_link": true
    },
    "kernelspec": {
      "name": "python3",
      "display_name": "Python 3"
    },
    "language_info": {
      "name": "python"
    }
  },
  "cells": [
    {
      "cell_type": "markdown",
      "metadata": {
        "id": "view-in-github",
        "colab_type": "text"
      },
      "source": [
        "<a href=\"https://colab.research.google.com/github/ChibuzoKelechi/Sentiment_Classifier_beta/blob/main/sentiment_classifier_tf.ipynb\" target=\"_parent\"><img src=\"https://colab.research.google.com/assets/colab-badge.svg\" alt=\"Open In Colab\"/></a>"
      ]
    },
    {
      "cell_type": "code",
      "execution_count": 1,
      "metadata": {
        "id": "b32llkRlYNuv"
      },
      "outputs": [],
      "source": [
        "import tensorflow as tf\n",
        "import tensorflow_datasets as tfds\n",
        "import matplotlib.pyplot as plt\n",
        "import datetime\n",
        "import numpy as np\n",
        "import pandas as pd\n",
        "\n",
        "from sklearn.model_selection import train_test_split\n",
        "from tensorflow import keras as tfkeras\n",
        "from keras import layers, losses\n",
        "from keras.models import load_model\n",
        "from keras.preprocessing.text import Tokenizer\n",
        "from keras.preprocessing.sequence import pad_sequences\n",
        "from keras.utils import to_categorical"
      ]
    },
    {
      "cell_type": "code",
      "source": [
        "from google.colab import drive\n",
        "drive.mount('/content/drive')"
      ],
      "metadata": {
        "colab": {
          "base_uri": "https://localhost:8080/"
        },
        "id": "WzKpeGqb5hj_",
        "outputId": "faa43f34-b8c1-415a-94b9-96ca09534985"
      },
      "execution_count": 2,
      "outputs": [
        {
          "output_type": "stream",
          "name": "stdout",
          "text": [
            "Mounted at /content/drive\n"
          ]
        }
      ]
    },
    {
      "cell_type": "code",
      "source": [
        "# reddit_data = '/content/drive/MyDrive/Datasets/Twitter_reddit SA data/Reddit_Data.csv'\n",
        "reddit_data = 'Reddit_Data.csv'\n",
        "\n",
        "dataset = pd.read_csv(reddit_data)\n",
        "\n",
        "comments = dataset['clean_comment']\n",
        "categories = dataset['category']\n",
        "\n",
        "sentences = []\n",
        "labels = []\n",
        "\n",
        "for sentence in comments:\n",
        "  # sentences.append(str(dataset['clean_comment'].tolist()))\n",
        "  sentences.append(str(sentence))\n",
        "\n",
        "for category in categories:\n",
        "  labels.append(category)\n",
        "\n",
        "train_size = 28000\n",
        "vocab_size = 48244\n",
        "embedding_dim = 50\n",
        "max_length = 100\n",
        "trunc_type='post'\n",
        "pad_type='post'\n",
        "\n",
        "train_text = sentences[0:train_size]\n",
        "test_text = sentences[train_size:]\n",
        "\n",
        "train_labels = labels[0:train_size]\n",
        "test_labels = labels[train_size:]"
      ],
      "metadata": {
        "id": "_gmgNoq2Z7Bd"
      },
      "execution_count": 3,
      "outputs": []
    },
    {
      "cell_type": "code",
      "source": [
        "tokenizer = Tokenizer(num_words=vocab_size, oov_token='<OOV>')\n",
        "\n",
        "tokenizer.fit_on_texts(train_text)\n",
        "word_index = tokenizer.word_index\n",
        "\n",
        "\n",
        "train_sequence = tokenizer.texts_to_sequences(train_text)\n",
        "train_padded = pad_sequences(train_sequence, padding='post', maxlen=100, truncating=trunc_type)\n",
        "\n",
        "test_sequence = tokenizer.texts_to_sequences(test_text)\n",
        "test_padded = pad_sequences(test_sequence, padding='post', maxlen=100, truncating=trunc_type)\n",
        "\n",
        "train_padded = np.array(train_padded)\n",
        "train_labels = np.array(train_labels)\n",
        "test_padded = np.array(test_padded)\n",
        "test_labels = np.array(test_labels)\n",
        "\n",
        "train_labels = train_labels.reshape(-1, 1)\n",
        "test_labels = test_labels.reshape(-1, 1)\n",
        "\n",
        "test_labels = test_labels[:len(test_padded)]\n",
        "\n",
        "dataset_shape = dataset.shape\n",
        "\n",
        "train_labels = to_categorical(train_labels, num_classes=3)\n",
        "test_labels = to_categorical(test_labels, num_classes=3)"
      ],
      "metadata": {
        "id": "lZmiRPfXxcTr"
      },
      "execution_count": 4,
      "outputs": []
    },
    {
      "cell_type": "code",
      "source": [
        "early_stop = tfkeras.callbacks.EarlyStopping(\n",
        "    min_delta=0.001,\n",
        "    patience=10,\n",
        "    restore_best_weights=True\n",
        ")"
      ],
      "metadata": {
        "id": "_ay4dSgXZoCQ"
      },
      "execution_count": 5,
      "outputs": []
    },
    {
      "cell_type": "code",
      "source": [
        "text_model = tfkeras.Sequential([\n",
        "    layers.Embedding(vocab_size, embedding_dim, input_length=100),\n",
        "    layers.GlobalAveragePooling1D(),\n",
        "    layers.Dropout(0.3),\n",
        "    layers.BatchNormalization(),\n",
        "    layers.Dense(10, activation='relu'),\n",
        "    layers.Dropout(0.3),\n",
        "    layers.BatchNormalization(),\n",
        "    layers.Dense(3, activation='softmax')\n",
        "])\n",
        "\n",
        "\n",
        "text_model.compile(\n",
        "    loss='categorical_crossentropy',\n",
        "    optimizer='adam',\n",
        "    metrics=['accuracy']\n",
        ")"
      ],
      "metadata": {
        "id": "OZtyX5kbJ_QK"
      },
      "execution_count": 6,
      "outputs": []
    },
    {
      "cell_type": "code",
      "source": [
        "history = text_model.fit(\n",
        "    train_padded, train_labels,\n",
        "    epochs=30,\n",
        "    validation_data=(test_padded, test_labels),\n",
        "    verbose=1,\n",
        "    callbacks=[early_stop]\n",
        ")"
      ],
      "metadata": {
        "colab": {
          "base_uri": "https://localhost:8080/"
        },
        "id": "sPiZhJq3HCRT",
        "outputId": "6ab564d3-85e4-4350-9aa9-d64c6152d2de"
      },
      "execution_count": 7,
      "outputs": [
        {
          "output_type": "stream",
          "name": "stdout",
          "text": [
            "Epoch 1/30\n",
            "875/875 [==============================] - 43s 47ms/step - loss: 0.9304 - accuracy: 0.5753 - val_loss: 0.6313 - val_accuracy: 0.7933\n",
            "Epoch 2/30\n",
            "875/875 [==============================] - 38s 43ms/step - loss: 0.5501 - accuracy: 0.7862 - val_loss: 0.5698 - val_accuracy: 0.7814\n",
            "Epoch 3/30\n",
            "875/875 [==============================] - 39s 44ms/step - loss: 0.4014 - accuracy: 0.8528 - val_loss: 0.4253 - val_accuracy: 0.8401\n",
            "Epoch 4/30\n",
            "875/875 [==============================] - 38s 44ms/step - loss: 0.3341 - accuracy: 0.8770 - val_loss: 0.5137 - val_accuracy: 0.8195\n",
            "Epoch 5/30\n",
            "875/875 [==============================] - 36s 41ms/step - loss: 0.2989 - accuracy: 0.8927 - val_loss: 0.4201 - val_accuracy: 0.8513\n",
            "Epoch 6/30\n",
            "875/875 [==============================] - 40s 45ms/step - loss: 0.2662 - accuracy: 0.9050 - val_loss: 0.4068 - val_accuracy: 0.8649\n",
            "Epoch 7/30\n",
            "875/875 [==============================] - 39s 44ms/step - loss: 0.2515 - accuracy: 0.9067 - val_loss: 0.6597 - val_accuracy: 0.7286\n",
            "Epoch 8/30\n",
            "875/875 [==============================] - 36s 41ms/step - loss: 0.2301 - accuracy: 0.9165 - val_loss: 0.7167 - val_accuracy: 0.6915\n",
            "Epoch 9/30\n",
            "875/875 [==============================] - 39s 44ms/step - loss: 0.2241 - accuracy: 0.9174 - val_loss: 0.4234 - val_accuracy: 0.8686\n",
            "Epoch 10/30\n",
            "875/875 [==============================] - 39s 44ms/step - loss: 0.2074 - accuracy: 0.9234 - val_loss: 0.5580 - val_accuracy: 0.8458\n",
            "Epoch 11/30\n",
            "875/875 [==============================] - 36s 41ms/step - loss: 0.2125 - accuracy: 0.9204 - val_loss: 0.5043 - val_accuracy: 0.8554\n",
            "Epoch 12/30\n",
            "875/875 [==============================] - 37s 43ms/step - loss: 0.1972 - accuracy: 0.9271 - val_loss: 0.4858 - val_accuracy: 0.8640\n",
            "Epoch 13/30\n",
            "875/875 [==============================] - 36s 41ms/step - loss: 0.1889 - accuracy: 0.9317 - val_loss: 0.5278 - val_accuracy: 0.8599\n",
            "Epoch 14/30\n",
            "875/875 [==============================] - 34s 39ms/step - loss: 0.1867 - accuracy: 0.9326 - val_loss: 0.7217 - val_accuracy: 0.7901\n",
            "Epoch 15/30\n",
            "875/875 [==============================] - 36s 42ms/step - loss: 0.1879 - accuracy: 0.9277 - val_loss: 0.6820 - val_accuracy: 0.8189\n",
            "Epoch 16/30\n",
            "875/875 [==============================] - 44s 50ms/step - loss: 0.1790 - accuracy: 0.9336 - val_loss: 0.5512 - val_accuracy: 0.8607\n"
          ]
        }
      ]
    },
    {
      "cell_type": "code",
      "source": [
        "history_df = pd.DataFrame(history.history)\n",
        "history_df.loc[:, ['loss', 'val_loss']].plot();\n",
        "print(\"Minimum validation loss: {}\".format(history_df['val_loss'].min()))"
      ],
      "metadata": {
        "colab": {
          "base_uri": "https://localhost:8080/",
          "height": 448
        },
        "id": "y3TsXH9Ghf9S",
        "outputId": "7f1d27c6-55c2-4bf6-9857-fd1c70e3adcd"
      },
      "execution_count": 12,
      "outputs": [
        {
          "output_type": "stream",
          "name": "stdout",
          "text": [
            "Minimum validation loss: 0.4068066477775574\n"
          ]
        },
        {
          "output_type": "display_data",
          "data": {
            "text/plain": [
              "<Figure size 640x480 with 1 Axes>"
            ],
            "image/png": "[encoded data removed]"
          },
          "metadata": {}
        }
      ]
    },
    {
      "cell_type": "code",
      "source": [
        "results = text_model.evaluate(test_padded, test_labels, batch_size=50)\n",
        "\n",
        "print(f'Your model has an accuracy of {100*results[1]}%')"
      ],
      "metadata": {
        "colab": {
          "base_uri": "https://localhost:8080/"
        },
        "id": "QSBHQds93LXs",
        "outputId": "5289f918-16dc-468e-ac51-4f3fc544d21b"
      },
      "execution_count": 8,
      "outputs": [
        {
          "output_type": "stream",
          "name": "stdout",
          "text": [
            "185/185 [==============================] - 0s 2ms/step - loss: 0.4068 - accuracy: 0.8649\n",
            "Your model has an accuracy of 86.48502826690674%\n"
          ]
        }
      ]
    },
    {
      "cell_type": "markdown",
      "source": [
        "## Input Classifcation\n",
        "The Model has been built. Now its time to setup the code for processing and classifiying input sentiment"
      ],
      "metadata": {
        "id": "cYxVvS1m9Ers"
      }
    },
    {
      "cell_type": "code",
      "source": [
        "test_sentences = [\n",
        "    'I definitely love machine learning, its so cool',\n",
        "    'Twitter is a really difficult place, so much hate',\n",
        "    'I am okay, not so bad',\n",
        "    'Oh I am overflowing with joy and happiness'\n",
        "]\n",
        "\n",
        "\n",
        "def preprocess_text(text):\n",
        "  text = text.lower()\n",
        "  input_sequence = tokenizer.texts_to_sequences([text])\n",
        "  input_padded = pad_sequences(input_sequence, maxlen=100, padding='post')\n",
        "\n",
        "  return input_padded\n"
      ],
      "metadata": {
        "id": "6vTJiQWx9D73"
      },
      "execution_count": 9,
      "outputs": []
    },
    {
      "cell_type": "code",
      "source": [
        "input_text = test_sentences[1]\n",
        "input = preprocess_text(input_text)\n",
        "\n",
        "score = text_model.predict(input)\n",
        "\n",
        "sentiment_classes = {0:'neutral', 1:'positive', 2:'negative'}\n",
        "\n",
        "predicted_class = np.argmax(score)\n",
        "certainty = 100 * np.max(score)\n",
        "\n",
        "print(f'Input Sentence: {input_text}')\n",
        "print(f'Predicted: {sentiment_classes[predicted_class]}')\n",
        "print(f'Certainty: {certainty:.2f}%')"
      ],
      "metadata": {
        "colab": {
          "base_uri": "https://localhost:8080/"
        },
        "id": "n1CXipo7_m7K",
        "outputId": "d27ddd34-2176-4f42-dff7-6106e302962e"
      },
      "execution_count": 27,
      "outputs": [
        {
          "output_type": "stream",
          "name": "stdout",
          "text": [
            "1/1 [==============================] - 0s 21ms/step\n",
            "Input Sentence: Twitter is a really difficult place, so much hate\n",
            "Predicted: negative\n",
            "Certainty: 99.06%\n"
          ]
        }
      ]
    }
  ]
}