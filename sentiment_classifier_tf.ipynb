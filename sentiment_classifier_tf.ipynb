{
  "nbformat": 4,
  "nbformat_minor": 0,
  "metadata": {
    "colab": {
      "provenance": [],
      "authorship_tag": "ABX9TyNpJMgF/f2m5+VPqB25jzaD",
      "include_colab_link": true
    },
    "kernelspec": {
      "name": "python3",
      "display_name": "Python 3"
    },
    "language_info": {
      "name": "python"
    }
  },
  "cells": [
    {
      "cell_type": "markdown",
      "metadata": {
        "id": "view-in-github",
        "colab_type": "text"
      },
      "source": [
        "<a href=\"https://colab.research.google.com/github/ChibuzoKelechi/Sentiment_Classifier_beta/blob/main/sentiment_classifier_tf.ipynb\" target=\"_parent\"><img src=\"https://colab.research.google.com/assets/colab-badge.svg\" alt=\"Open In Colab\"/></a>"
      ]
    },
    {
      "cell_type": "code",
      "execution_count": 13,
      "metadata": {
        "id": "b32llkRlYNuv"
      },
      "outputs": [],
      "source": [
        "import tensorflow as tf\n",
        "import tensorflow_datasets as tfds\n",
        "import matplotlib.pyplot as plt\n",
        "import datetime\n",
        "import numpy as np\n",
        "import pandas as pd\n",
        "import h5py\n",
        "\n",
        "from sklearn.model_selection import train_test_split\n",
        "from tensorflow import keras as tfkeras\n",
        "from keras import layers, losses\n",
        "from keras.models import load_model\n",
        "from keras.preprocessing.text import Tokenizer\n",
        "from keras.preprocessing.sequence import pad_sequences\n",
        "from keras.utils import to_categorical"
      ]
    },
    {
      "cell_type": "code",
      "source": [
        "# from google.colab import drive\n",
        "# drive.mount('/content/drive')"
      ],
      "metadata": {
        "id": "WzKpeGqb5hj_"
      },
      "execution_count": 2,
      "outputs": []
    },
    {
      "cell_type": "code",
      "source": [
        "# reddit_data = '/content/drive/MyDrive/Datasets/Twitter_reddit SA data/Reddit_Data.csv'\n",
        "\n",
        "reddit_data = '/content/Reddit_Data.csv'\n",
        "dataset = pd.read_csv(reddit_data)\n",
        "\n",
        "comments = dataset['clean_comment']\n",
        "categories = dataset['category']\n",
        "\n",
        "sentences = []\n",
        "labels = []\n",
        "\n",
        "for sentence in comments:\n",
        "  sentences.append(str(sentence))\n",
        "\n",
        "for category in categories:\n",
        "  labels.append(category)\n",
        "\n",
        "train_size = 28000\n",
        "vocab_size = 48244\n",
        "embedding_dim = 50\n",
        "max_length = 100\n",
        "trunc_type='post'\n",
        "pad_type='post'\n",
        "\n",
        "train_text = sentences[0:train_size]\n",
        "test_text = sentences[train_size:]\n",
        "\n",
        "train_labels = labels[0:train_size]\n",
        "test_labels = labels[train_size:]"
      ],
      "metadata": {
        "id": "_gmgNoq2Z7Bd"
      },
      "execution_count": 3,
      "outputs": []
    },
    {
      "cell_type": "code",
      "source": [
        "tokenizer = Tokenizer(num_words=vocab_size, oov_token='<OOV>')\n",
        "\n",
        "tokenizer.fit_on_texts(train_text)\n",
        "word_index = tokenizer.word_index\n",
        "\n",
        "\n",
        "train_sequence = tokenizer.texts_to_sequences(train_text)\n",
        "train_padded = pad_sequences(train_sequence, padding='post', maxlen=100, truncating=trunc_type)\n",
        "\n",
        "test_sequence = tokenizer.texts_to_sequences(test_text)\n",
        "test_padded = pad_sequences(test_sequence, padding='post', maxlen=100, truncating=trunc_type)\n",
        "\n",
        "train_padded = np.array(train_padded)\n",
        "train_labels = np.array(train_labels)\n",
        "test_padded = np.array(test_padded)\n",
        "test_labels = np.array(test_labels)\n",
        "\n",
        "train_labels = train_labels.reshape(-1, 1)\n",
        "test_labels = test_labels.reshape(-1, 1)\n",
        "\n",
        "test_labels = test_labels[:len(test_padded)]\n",
        "\n",
        "dataset_shape = dataset.shape\n",
        "\n",
        "train_labels = to_categorical(train_labels, num_classes=3)\n",
        "test_labels = to_categorical(test_labels, num_classes=3)"
      ],
      "metadata": {
        "id": "lZmiRPfXxcTr"
      },
      "execution_count": 4,
      "outputs": []
    },
    {
      "cell_type": "code",
      "source": [
        "early_stop = tfkeras.callbacks.EarlyStopping(\n",
        "    min_delta=0.001,\n",
        "    patience=10,\n",
        "    restore_best_weights=True\n",
        ")"
      ],
      "metadata": {
        "id": "_ay4dSgXZoCQ"
      },
      "execution_count": 5,
      "outputs": []
    },
    {
      "cell_type": "code",
      "source": [
        "text_model = tfkeras.Sequential([\n",
        "    layers.Embedding(vocab_size, embedding_dim, input_length=100),\n",
        "    layers.GlobalAveragePooling1D(),\n",
        "    layers.Dropout(0.3),\n",
        "    layers.BatchNormalization(),\n",
        "    layers.Dense(10, activation='relu'),\n",
        "    layers.Dropout(0.3),\n",
        "    layers.BatchNormalization(),\n",
        "    layers.Dense(3, activation='softmax')\n",
        "])\n",
        "\n",
        "\n",
        "text_model.compile(\n",
        "    loss='categorical_crossentropy',\n",
        "    optimizer='adam',\n",
        "    metrics=['accuracy']\n",
        ")"
      ],
      "metadata": {
        "id": "OZtyX5kbJ_QK"
      },
      "execution_count": 6,
      "outputs": []
    },
    {
      "cell_type": "code",
      "source": [
        "history = text_model.fit(\n",
        "    train_padded, train_labels,\n",
        "    epochs=30,\n",
        "    validation_data=(test_padded, test_labels),\n",
        "    verbose=1,\n",
        "    callbacks=[early_stop]\n",
        ")"
      ],
      "metadata": {
        "colab": {
          "base_uri": "https://localhost:8080/"
        },
        "id": "sPiZhJq3HCRT",
        "outputId": "792777ac-5e05-4801-b0c3-94ff9bcc3b69"
      },
      "execution_count": 7,
      "outputs": [
        {
          "output_type": "stream",
          "name": "stdout",
          "text": [
            "Epoch 1/30\n",
            "875/875 [==============================] - 31s 34ms/step - loss: 0.9394 - accuracy: 0.5637 - val_loss: 0.6368 - val_accuracy: 0.7815\n",
            "Epoch 2/30\n",
            "875/875 [==============================] - 28s 32ms/step - loss: 0.5564 - accuracy: 0.7821 - val_loss: 0.5140 - val_accuracy: 0.8226\n",
            "Epoch 3/30\n",
            "875/875 [==============================] - 30s 34ms/step - loss: 0.4222 - accuracy: 0.8442 - val_loss: 0.4412 - val_accuracy: 0.8417\n",
            "Epoch 4/30\n",
            "875/875 [==============================] - 31s 35ms/step - loss: 0.3415 - accuracy: 0.8772 - val_loss: 0.4813 - val_accuracy: 0.8214\n",
            "Epoch 5/30\n",
            "875/875 [==============================] - 28s 32ms/step - loss: 0.2930 - accuracy: 0.8918 - val_loss: 0.5296 - val_accuracy: 0.8303\n",
            "Epoch 6/30\n",
            "875/875 [==============================] - 28s 32ms/step - loss: 0.2706 - accuracy: 0.9021 - val_loss: 0.5342 - val_accuracy: 0.8077\n",
            "Epoch 7/30\n",
            "875/875 [==============================] - 29s 34ms/step - loss: 0.2460 - accuracy: 0.9111 - val_loss: 0.6587 - val_accuracy: 0.7442\n",
            "Epoch 8/30\n",
            "875/875 [==============================] - 28s 32ms/step - loss: 0.2302 - accuracy: 0.9169 - val_loss: 0.4429 - val_accuracy: 0.8684\n",
            "Epoch 9/30\n",
            "875/875 [==============================] - 27s 31ms/step - loss: 0.2228 - accuracy: 0.9212 - val_loss: 0.5487 - val_accuracy: 0.8259\n",
            "Epoch 10/30\n",
            "875/875 [==============================] - 28s 32ms/step - loss: 0.2110 - accuracy: 0.9230 - val_loss: 0.5662 - val_accuracy: 0.8340\n",
            "Epoch 11/30\n",
            "875/875 [==============================] - 29s 33ms/step - loss: 0.2030 - accuracy: 0.9276 - val_loss: 0.5145 - val_accuracy: 0.8535\n",
            "Epoch 12/30\n",
            "875/875 [==============================] - 29s 33ms/step - loss: 0.1964 - accuracy: 0.9298 - val_loss: 0.5492 - val_accuracy: 0.8484\n",
            "Epoch 13/30\n",
            "875/875 [==============================] - 28s 32ms/step - loss: 0.1981 - accuracy: 0.9272 - val_loss: 0.5351 - val_accuracy: 0.8566\n"
          ]
        }
      ]
    },
    {
      "cell_type": "code",
      "source": [
        "history_df = pd.DataFrame(history.history)\n",
        "history_df.loc[:, ['loss', 'val_loss']].plot();\n",
        "print(\"Minimum validation loss: {}\".format(history_df['val_loss'].min()))"
      ],
      "metadata": {
        "colab": {
          "base_uri": "https://localhost:8080/",
          "height": 448
        },
        "id": "y3TsXH9Ghf9S",
        "outputId": "75fd1725-1ac8-40a8-cd2f-995332972f34"
      },
      "execution_count": 8,
      "outputs": [
        {
          "output_type": "stream",
          "name": "stdout",
          "text": [
            "Minimum validation loss: 0.44119325280189514\n"
          ]
        },
        {
          "output_type": "display_data",
          "data": {
            "text/plain": [
              "<Figure size 640x480 with 1 Axes>"
            ],
            "image/png": "[encoded data removed]"
          },
          "metadata": {}
        }
      ]
    },
    {
      "cell_type": "code",
      "source": [
        "results = text_model.evaluate(test_padded, test_labels, batch_size=50)\n",
        "\n",
        "print(f'Your model has an accuracy of {100*results[1]}%')"
      ],
      "metadata": {
        "colab": {
          "base_uri": "https://localhost:8080/"
        },
        "id": "QSBHQds93LXs",
        "outputId": "785399ef-a97d-4dd2-e8cb-677412500e11"
      },
      "execution_count": 9,
      "outputs": [
        {
          "output_type": "stream",
          "name": "stdout",
          "text": [
            "185/185 [==============================] - 0s 2ms/step - loss: 0.4412 - accuracy: 0.8417\n",
            "Your model has an accuracy of 84.17125940322876%\n"
          ]
        }
      ]
    },
    {
      "cell_type": "markdown",
      "source": [
        "## Input Classifcation\n",
        "The Model has been built. Now its time to setup the code for processing and classifiying input sentiment"
      ],
      "metadata": {
        "id": "cYxVvS1m9Ers"
      }
    },
    {
      "cell_type": "code",
      "source": [
        "test_sentences = [\n",
        "    'I definitely love machine learning, its so cool',\n",
        "    'Twitter is a really difficult place, so much hate',\n",
        "    'I am okay, not so bad',\n",
        "    'Oh I am overflowing with joy and happiness'\n",
        "]\n",
        "\n",
        "\n",
        "def preprocess_text(text):\n",
        "  text = text.lower()\n",
        "  input_sequence = tokenizer.texts_to_sequences([text])\n",
        "  input_padded = pad_sequences(input_sequence, maxlen=100, padding='post')\n",
        "\n",
        "  return input_padded\n"
      ],
      "metadata": {
        "id": "6vTJiQWx9D73"
      },
      "execution_count": 10,
      "outputs": []
    },
    {
      "cell_type": "code",
      "source": [
        "input_text = test_sentences[1]\n",
        "input = preprocess_text(input_text)\n",
        "\n",
        "score = text_model.predict(input)\n",
        "\n",
        "sentiment_classes = {0:'neutral', 1:'positive', 2:'negative'}\n",
        "\n",
        "predicted_class = np.argmax(score)\n",
        "certainty = 100 * np.max(score)\n",
        "\n",
        "print(f'Input Sentence: {input_text}')\n",
        "print(f'Predicted: {sentiment_classes[predicted_class]}')\n",
        "print(f'Certainty: {certainty:.2f}%')"
      ],
      "metadata": {
        "colab": {
          "base_uri": "https://localhost:8080/"
        },
        "id": "n1CXipo7_m7K",
        "outputId": "9540123a-2ecc-4e35-a76e-ee3167fd4a64"
      },
      "execution_count": 11,
      "outputs": [
        {
          "output_type": "stream",
          "name": "stdout",
          "text": [
            "1/1 [==============================] - 0s 125ms/step\n",
            "Input Sentence: Twitter is a really difficult place, so much hate\n",
            "Predicted: negative\n",
            "Certainty: 96.49%\n"
          ]
        }
      ]
    },
    {
      "cell_type": "code",
      "source": [
        "text_model.save('sentiment_model_tf.h5')"
      ],
      "metadata": {
        "id": "IKz_wmb163fl",
        "outputId": "7fff7782-80a9-4eec-a30b-ab8200c282b8",
        "colab": {
          "base_uri": "https://localhost:8080/"
        }
      },
      "execution_count": 14,
      "outputs": [
        {
          "output_type": "stream",
          "name": "stderr",
          "text": [
            "/usr/local/lib/python3.10/dist-packages/keras/src/engine/training.py:3103: UserWarning: You are saving your model as an HDF5 file via `model.save()`. This file format is considered legacy. We recommend using instead the native Keras format, e.g. `model.save('my_model.keras')`.\n",
            "  saving_api.save_model(\n"
          ]
        }
      ]
    },
    {
      "cell_type": "code",
      "source": [],
      "metadata": {
        "id": "K5kAGlfm7BPW"
      },
      "execution_count": null,
      "outputs": []
    }
  ]
}